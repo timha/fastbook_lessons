{
 "cells": [
  {
   "cell_type": "code",
   "execution_count": 1,
   "metadata": {},
   "outputs": [],
   "source": [
    "! [ -e /content ] && pip install -Uqq fastbook\n",
    "import fastbook\n",
    "fastbook.setup_book()"
   ]
  },
  {
   "cell_type": "code",
   "execution_count": 3,
   "metadata": {},
   "outputs": [],
   "source": [
    "from fastai.vision.all import *\n",
    "from fastbook import *"
   ]
  },
  {
   "cell_type": "code",
   "execution_count": 10,
   "metadata": {},
   "outputs": [],
   "source": [
    "#time = torch.arange(0,20).float();\n",
    "#speed = torch.randn(20)*3 + 0.75*(time-9.5)**2 + 1\n",
    "#plt.scatter(time,speed);"
   ]
  },
  {
   "cell_type": "code",
   "execution_count": 11,
   "metadata": {},
   "outputs": [],
   "source": [
    "#time, speed"
   ]
  },
  {
   "cell_type": "code",
   "execution_count": 21,
   "metadata": {},
   "outputs": [],
   "source": [
    "time = torch.arange(0,20).float();\n",
    "speed = torch.randn(20)*3 + 0.75*(time-9.5)**2 + 1\n",
    "params = tensor([-1.3392, -1.3702, -0.3218], requires_grad=True)\n",
    "\n",
    "def f(t, params):\n",
    "    a,b,c = params\n",
    "    return a*(t**2) + (b*t) + c\n",
    "\n",
    "def mse(preds, targets): return ((preds-targets)**2).mean()\n",
    "\n",
    "preds = f(time, params)\n",
    "loss = mse(preds, speed)"
   ]
  },
  {
   "cell_type": "code",
   "execution_count": 30,
   "metadata": {},
   "outputs": [],
   "source": [
    "# loss.backward()\n",
    "# how can we calculate this?\n"
   ]
  },
  {
   "cell_type": "code",
   "execution_count": 22,
   "metadata": {},
   "outputs": [
    {
     "data": {
      "text/plain": [
       "(tensor([-1.3392, -1.3702, -0.3218], requires_grad=True),\n",
       " tensor([ 0.,  1.,  2.,  3.,  4.,  5.,  6.,  7.,  8.,  9., 10., 11., 12., 13., 14., 15., 16., 17., 18., 19.]),\n",
       " tensor([67.7380, 56.9534, 40.5161, 33.9169, 29.4810, 19.2231,  5.8783,  2.2979,  2.2794,  6.0937,  3.1517,  4.4155,  9.1120, 10.2432, 10.7701, 26.4638, 31.5615, 46.2868, 53.1275, 70.5979]),\n",
       " tensor([-3.2180e-01, -3.0312e+00, -8.4190e+00, -1.6485e+01, -2.7230e+01, -4.0653e+01, -5.6754e+01, -7.5534e+01, -9.6992e+01, -1.2113e+02, -1.4794e+02, -1.7744e+02, -2.0961e+02, -2.4446e+02,\n",
       "         -2.8199e+02, -3.2219e+02, -3.6508e+02, -4.1064e+02, -4.5889e+02, -5.0981e+02], grad_fn=<AddBackward0>),\n",
       " tensor(69850.4141, grad_fn=<MeanBackward0>))"
      ]
     },
     "execution_count": 22,
     "metadata": {},
     "output_type": "execute_result"
    }
   ],
   "source": [
    "params, time, speed, preds, loss"
   ]
  },
  {
   "cell_type": "code",
   "execution_count": 27,
   "metadata": {},
   "outputs": [],
   "source": [
    "# def show_preds(preds, ax=None):\n",
    "#     if ax is None: ax=plt.subplots()[1]\n",
    "#     ax.scatter(time, speed)\n",
    "#     ax.scatter(time, to_np(preds), color='red')\n",
    "#     ax.set_ylim(-300,100)"
   ]
  },
  {
   "cell_type": "code",
   "execution_count": 29,
   "metadata": {},
   "outputs": [],
   "source": [
    "# show_preds(preds)"
   ]
  },
  {
   "cell_type": "code",
   "execution_count": 28,
   "metadata": {},
   "outputs": [],
   "source": [
    "# loss.backward()\n",
    "# params.grad"
   ]
  },
  {
   "cell_type": "code",
   "execution_count": null,
   "metadata": {},
   "outputs": [],
   "source": []
  }
 ],
 "metadata": {
  "kernelspec": {
   "display_name": "venv",
   "language": "python",
   "name": "python3"
  },
  "language_info": {
   "codemirror_mode": {
    "name": "ipython",
    "version": 3
   },
   "file_extension": ".py",
   "mimetype": "text/x-python",
   "name": "python",
   "nbconvert_exporter": "python",
   "pygments_lexer": "ipython3",
   "version": "3.11.0"
  }
 },
 "nbformat": 4,
 "nbformat_minor": 2
}
